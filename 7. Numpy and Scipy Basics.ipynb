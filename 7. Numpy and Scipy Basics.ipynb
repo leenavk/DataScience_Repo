{
 "cells": [
  {
   "cell_type": "code",
   "execution_count": 1,
   "metadata": {
    "executionInfo": {
     "elapsed": 4,
     "status": "ok",
     "timestamp": 1697677742444,
     "user": {
      "displayName": "Prashant Nair",
      "userId": "01567311054365266478"
     },
     "user_tz": -330
    },
    "id": "WgU6-DS9eYSB"
   },
   "outputs": [],
   "source": [
    "import numpy as np"
   ]
  },
  {
   "cell_type": "code",
   "execution_count": 2,
   "metadata": {
    "executionInfo": {
     "elapsed": 2,
     "status": "ok",
     "timestamp": 1697677777510,
     "user": {
      "displayName": "Prashant Nair",
      "userId": "01567311054365266478"
     },
     "user_tz": -330
    },
    "id": "0BUgDdDHeo3T"
   },
   "outputs": [],
   "source": [
    "# VECTOR\n",
    "twoDimExample = np.array([\n",
    "    [1,2,3],\n",
    "    [4,5,6],\n",
    "    [7,8,9]\n",
    "])"
   ]
  },
  {
   "cell_type": "code",
   "execution_count": 3,
   "metadata": {
    "colab": {
     "base_uri": "https://localhost:8080/"
    },
    "executionInfo": {
     "elapsed": 6,
     "status": "ok",
     "timestamp": 1697677790725,
     "user": {
      "displayName": "Prashant Nair",
      "userId": "01567311054365266478"
     },
     "user_tz": -330
    },
    "id": "9GkwCcrFexdy",
    "outputId": "484b170d-74d6-4198-f389-9c42503d4b3f"
   },
   "outputs": [
    {
     "data": {
      "text/plain": [
       "2"
      ]
     },
     "execution_count": 3,
     "metadata": {},
     "output_type": "execute_result"
    }
   ],
   "source": [
    "twoDimExample.ndim"
   ]
  },
  {
   "cell_type": "code",
   "execution_count": 4,
   "metadata": {
    "colab": {
     "base_uri": "https://localhost:8080/"
    },
    "executionInfo": {
     "elapsed": 4,
     "status": "ok",
     "timestamp": 1697677840122,
     "user": {
      "displayName": "Prashant Nair",
      "userId": "01567311054365266478"
     },
     "user_tz": -330
    },
    "id": "55BB04gye0oD",
    "outputId": "c60b84e5-6513-41ec-882e-8537a4e2eff1"
   },
   "outputs": [
    {
     "data": {
      "text/plain": [
       "array([[ 2,  4,  6],\n",
       "       [ 8, 10, 12],\n",
       "       [14, 16, 18]])"
      ]
     },
     "execution_count": 4,
     "metadata": {},
     "output_type": "execute_result"
    }
   ],
   "source": [
    "#Numpy Array Arithmetic Operations ---- ALL OPERATIONS ARE ELEMENT-WISE\n",
    "\n",
    "#Addition Operation ----- Elementwise Addition\n",
    "twoDimExample + twoDimExample\n"
   ]
  },
  {
   "cell_type": "code",
   "execution_count": 5,
   "metadata": {
    "colab": {
     "base_uri": "https://localhost:8080/"
    },
    "executionInfo": {
     "elapsed": 3,
     "status": "ok",
     "timestamp": 1697677854295,
     "user": {
      "displayName": "Prashant Nair",
      "userId": "01567311054365266478"
     },
     "user_tz": -330
    },
    "id": "YfzH5qX_fAlC",
    "outputId": "137d2d23-771c-4df5-fdb4-dab056d829b6"
   },
   "outputs": [
    {
     "data": {
      "text/plain": [
       "array([[0, 0, 0],\n",
       "       [0, 0, 0],\n",
       "       [0, 0, 0]])"
      ]
     },
     "execution_count": 5,
     "metadata": {},
     "output_type": "execute_result"
    }
   ],
   "source": [
    "#Subtraction Operation ----- Elementwise Subtraction\n",
    "twoDimExample - twoDimExample"
   ]
  },
  {
   "cell_type": "code",
   "execution_count": 6,
   "metadata": {
    "colab": {
     "base_uri": "https://localhost:8080/"
    },
    "executionInfo": {
     "elapsed": 1030,
     "status": "ok",
     "timestamp": 1697677930920,
     "user": {
      "displayName": "Prashant Nair",
      "userId": "01567311054365266478"
     },
     "user_tz": -330
    },
    "id": "RCCTtybPfEJT",
    "outputId": "0afc04b6-ab32-4e08-c20e-44214375a27f"
   },
   "outputs": [
    {
     "data": {
      "text/plain": [
       "array([[ 1,  4,  9],\n",
       "       [16, 25, 36],\n",
       "       [49, 64, 81]])"
      ]
     },
     "execution_count": 6,
     "metadata": {},
     "output_type": "execute_result"
    }
   ],
   "source": [
    "#Multiplication Operation ----- Elementwise Multiplication\n",
    "twoDimExample * twoDimExample"
   ]
  },
  {
   "cell_type": "code",
   "execution_count": 14,
   "metadata": {
    "executionInfo": {
     "elapsed": 644,
     "status": "ok",
     "timestamp": 1697678529916,
     "user": {
      "displayName": "Prashant Nair",
      "userId": "01567311054365266478"
     },
     "user_tz": -330
    },
    "id": "1fhaf90ohiXy"
   },
   "outputs": [],
   "source": [
    "mat1 = np.matrix([\n",
    "    [1,2,3],\n",
    "    [4,5,6],\n",
    "    [7,8,9]\n",
    "])"
   ]
  },
  {
   "cell_type": "code",
   "execution_count": 15,
   "metadata": {
    "colab": {
     "base_uri": "https://localhost:8080/"
    },
    "executionInfo": {
     "elapsed": 375,
     "status": "ok",
     "timestamp": 1697678538605,
     "user": {
      "displayName": "Prashant Nair",
      "userId": "01567311054365266478"
     },
     "user_tz": -330
    },
    "id": "R8X_CHsPhpni",
    "outputId": "27ace065-34ec-4b35-ed2a-711ca7511304"
   },
   "outputs": [
    {
     "data": {
      "text/plain": [
       "matrix([[ 30,  36,  42],\n",
       "        [ 66,  81,  96],\n",
       "        [102, 126, 150]])"
      ]
     },
     "execution_count": 15,
     "metadata": {},
     "output_type": "execute_result"
    }
   ],
   "source": [
    "mat1 * mat1"
   ]
  },
  {
   "cell_type": "code",
   "execution_count": 13,
   "metadata": {
    "colab": {
     "base_uri": "https://localhost:8080/"
    },
    "executionInfo": {
     "elapsed": 669,
     "status": "ok",
     "timestamp": 1697678472023,
     "user": {
      "displayName": "Prashant Nair",
      "userId": "01567311054365266478"
     },
     "user_tz": -330
    },
    "id": "5uF7qq5GhSjD",
    "outputId": "577d8521-bae0-4a1b-a803-42a98234fdd2"
   },
   "outputs": [
    {
     "data": {
      "text/plain": [
       "array([[ 30,  36,  42],\n",
       "       [ 66,  81,  96],\n",
       "       [102, 126, 150]])"
      ]
     },
     "execution_count": 13,
     "metadata": {},
     "output_type": "execute_result"
    }
   ],
   "source": [
    "#Matrix Multiplication ------ Hadamard Multiplication\n",
    "np.matmul(twoDimExample, twoDimExample)"
   ]
  },
  {
   "cell_type": "code",
   "execution_count": 7,
   "metadata": {
    "colab": {
     "base_uri": "https://localhost:8080/"
    },
    "executionInfo": {
     "elapsed": 3,
     "status": "ok",
     "timestamp": 1697677934873,
     "user": {
      "displayName": "Prashant Nair",
      "userId": "01567311054365266478"
     },
     "user_tz": -330
    },
    "id": "7DTdcwZhfWbs",
    "outputId": "0564ba24-3957-425e-9ddd-29cef5658413"
   },
   "outputs": [
    {
     "data": {
      "text/plain": [
       "array([[1, 2, 3],\n",
       "       [4, 5, 6],\n",
       "       [7, 8, 9]])"
      ]
     },
     "execution_count": 7,
     "metadata": {},
     "output_type": "execute_result"
    }
   ],
   "source": [
    "twoDimExample"
   ]
  },
  {
   "cell_type": "code",
   "execution_count": 8,
   "metadata": {
    "colab": {
     "base_uri": "https://localhost:8080/"
    },
    "executionInfo": {
     "elapsed": 669,
     "status": "ok",
     "timestamp": 1697678166164,
     "user": {
      "displayName": "Prashant Nair",
      "userId": "01567311054365266478"
     },
     "user_tz": -330
    },
    "id": "mOVVAN55fX3a",
    "outputId": "50c16c5f-476d-439d-f72b-6a48d66fcbc9"
   },
   "outputs": [
    {
     "data": {
      "text/plain": [
       "array([[ 2,  4,  6],\n",
       "       [ 8, 10, 12],\n",
       "       [14, 16, 18]])"
      ]
     },
     "execution_count": 8,
     "metadata": {},
     "output_type": "execute_result"
    }
   ],
   "source": [
    "#BROADCASTING OPERATION\n",
    "\n",
    "twoDimExample * 2"
   ]
  },
  {
   "cell_type": "code",
   "execution_count": 10,
   "metadata": {
    "executionInfo": {
     "elapsed": 380,
     "status": "ok",
     "timestamp": 1697678319897,
     "user": {
      "displayName": "Prashant Nair",
      "userId": "01567311054365266478"
     },
     "user_tz": -330
    },
    "id": "MV3JWtAGgZwr"
   },
   "outputs": [],
   "source": [
    "twoDimStringExample = np.array([\n",
    "    ['a','b','c'],\n",
    "    ['d','e','f'],\n",
    "    ['g','h','i']\n",
    "])"
   ]
  },
  {
   "cell_type": "code",
   "execution_count": 16,
   "metadata": {
    "colab": {
     "base_uri": "https://localhost:8080/"
    },
    "executionInfo": {
     "elapsed": 415,
     "status": "ok",
     "timestamp": 1697678609615,
     "user": {
      "displayName": "Prashant Nair",
      "userId": "01567311054365266478"
     },
     "user_tz": -330
    },
    "id": "OK3oF2Uwg3iZ",
    "outputId": "163a2136-789f-4667-af89-709458763aaf"
   },
   "outputs": [
    {
     "data": {
      "text/plain": [
       "numpy.ndarray"
      ]
     },
     "execution_count": 16,
     "metadata": {},
     "output_type": "execute_result"
    }
   ],
   "source": [
    "type(twoDimExample)"
   ]
  },
  {
   "cell_type": "code",
   "execution_count": 17,
   "metadata": {
    "colab": {
     "base_uri": "https://localhost:8080/"
    },
    "executionInfo": {
     "elapsed": 2,
     "status": "ok",
     "timestamp": 1697678619060,
     "user": {
      "displayName": "Prashant Nair",
      "userId": "01567311054365266478"
     },
     "user_tz": -330
    },
    "id": "CCj4NQ10h8hr",
    "outputId": "88c41817-036a-42b0-af4e-1ace055ddca0"
   },
   "outputs": [
    {
     "data": {
      "text/plain": [
       "numpy.matrix"
      ]
     },
     "execution_count": 17,
     "metadata": {},
     "output_type": "execute_result"
    }
   ],
   "source": [
    "type(mat1)"
   ]
  },
  {
   "cell_type": "code",
   "execution_count": null,
   "metadata": {
    "id": "kmEpBy1Th-06"
   },
   "outputs": [],
   "source": [
    "#Linear Systems"
   ]
  },
  {
   "cell_type": "code",
   "execution_count": 18,
   "metadata": {
    "executionInfo": {
     "elapsed": 1143,
     "status": "ok",
     "timestamp": 1697679372523,
     "user": {
      "displayName": "Prashant Nair",
      "userId": "01567311054365266478"
     },
     "user_tz": -330
    },
    "id": "CQG98KgAkxt0"
   },
   "outputs": [],
   "source": [
    "import pandas as pd\n",
    "import numpy as np"
   ]
  },
  {
   "cell_type": "code",
   "execution_count": 19,
   "metadata": {
    "executionInfo": {
     "elapsed": 2,
     "status": "ok",
     "timestamp": 1697679376866,
     "user": {
      "displayName": "Prashant Nair",
      "userId": "01567311054365266478"
     },
     "user_tz": -330
    },
    "id": "P6cbdnixk2Va"
   },
   "outputs": [],
   "source": [
    "data = pd.read_csv('Salary_Data.csv')"
   ]
  },
  {
   "cell_type": "code",
   "execution_count": 20,
   "metadata": {
    "executionInfo": {
     "elapsed": 429,
     "status": "ok",
     "timestamp": 1697679383030,
     "user": {
      "displayName": "Prashant Nair",
      "userId": "01567311054365266478"
     },
     "user_tz": -330
    },
    "id": "hlrO_JqCk3xi"
   },
   "outputs": [],
   "source": [
    "# Seperate data as features and label\n",
    "features = data.iloc[:,[0]].values\n",
    "label = data.iloc[:, [1]].values"
   ]
  },
  {
   "cell_type": "code",
   "execution_count": 21,
   "metadata": {
    "executionInfo": {
     "elapsed": 1996,
     "status": "ok",
     "timestamp": 1697679391511,
     "user": {
      "displayName": "Prashant Nair",
      "userId": "01567311054365266478"
     },
     "user_tz": -330
    },
    "id": "IzQJgFYqk5Wi"
   },
   "outputs": [],
   "source": [
    "\n",
    "from sklearn.model_selection import train_test_split\n",
    "\n",
    "X_train,X_test,y_train,y_test = train_test_split(features,\n",
    "                                                 label,\n",
    "                                                 test_size=0.2,\n",
    "                                                 random_state=10)"
   ]
  },
  {
   "cell_type": "code",
   "execution_count": 22,
   "metadata": {
    "colab": {
     "base_uri": "https://localhost:8080/",
     "height": 74
    },
    "executionInfo": {
     "elapsed": 439,
     "status": "ok",
     "timestamp": 1697679418793,
     "user": {
      "displayName": "Prashant Nair",
      "userId": "01567311054365266478"
     },
     "user_tz": -330
    },
    "id": "rODu_HYNk7Ch",
    "outputId": "190c1909-082a-48c9-aa04-761e60e0508e"
   },
   "outputs": [
    {
     "data": {
      "text/html": [
       "<style>#sk-container-id-1 {color: black;background-color: white;}#sk-container-id-1 pre{padding: 0;}#sk-container-id-1 div.sk-toggleable {background-color: white;}#sk-container-id-1 label.sk-toggleable__label {cursor: pointer;display: block;width: 100%;margin-bottom: 0;padding: 0.3em;box-sizing: border-box;text-align: center;}#sk-container-id-1 label.sk-toggleable__label-arrow:before {content: \"▸\";float: left;margin-right: 0.25em;color: #696969;}#sk-container-id-1 label.sk-toggleable__label-arrow:hover:before {color: black;}#sk-container-id-1 div.sk-estimator:hover label.sk-toggleable__label-arrow:before {color: black;}#sk-container-id-1 div.sk-toggleable__content {max-height: 0;max-width: 0;overflow: hidden;text-align: left;background-color: #f0f8ff;}#sk-container-id-1 div.sk-toggleable__content pre {margin: 0.2em;color: black;border-radius: 0.25em;background-color: #f0f8ff;}#sk-container-id-1 input.sk-toggleable__control:checked~div.sk-toggleable__content {max-height: 200px;max-width: 100%;overflow: auto;}#sk-container-id-1 input.sk-toggleable__control:checked~label.sk-toggleable__label-arrow:before {content: \"▾\";}#sk-container-id-1 div.sk-estimator input.sk-toggleable__control:checked~label.sk-toggleable__label {background-color: #d4ebff;}#sk-container-id-1 div.sk-label input.sk-toggleable__control:checked~label.sk-toggleable__label {background-color: #d4ebff;}#sk-container-id-1 input.sk-hidden--visually {border: 0;clip: rect(1px 1px 1px 1px);clip: rect(1px, 1px, 1px, 1px);height: 1px;margin: -1px;overflow: hidden;padding: 0;position: absolute;width: 1px;}#sk-container-id-1 div.sk-estimator {font-family: monospace;background-color: #f0f8ff;border: 1px dotted black;border-radius: 0.25em;box-sizing: border-box;margin-bottom: 0.5em;}#sk-container-id-1 div.sk-estimator:hover {background-color: #d4ebff;}#sk-container-id-1 div.sk-parallel-item::after {content: \"\";width: 100%;border-bottom: 1px solid gray;flex-grow: 1;}#sk-container-id-1 div.sk-label:hover label.sk-toggleable__label {background-color: #d4ebff;}#sk-container-id-1 div.sk-serial::before {content: \"\";position: absolute;border-left: 1px solid gray;box-sizing: border-box;top: 0;bottom: 0;left: 50%;z-index: 0;}#sk-container-id-1 div.sk-serial {display: flex;flex-direction: column;align-items: center;background-color: white;padding-right: 0.2em;padding-left: 0.2em;position: relative;}#sk-container-id-1 div.sk-item {position: relative;z-index: 1;}#sk-container-id-1 div.sk-parallel {display: flex;align-items: stretch;justify-content: center;background-color: white;position: relative;}#sk-container-id-1 div.sk-item::before, #sk-container-id-1 div.sk-parallel-item::before {content: \"\";position: absolute;border-left: 1px solid gray;box-sizing: border-box;top: 0;bottom: 0;left: 50%;z-index: -1;}#sk-container-id-1 div.sk-parallel-item {display: flex;flex-direction: column;z-index: 1;position: relative;background-color: white;}#sk-container-id-1 div.sk-parallel-item:first-child::after {align-self: flex-end;width: 50%;}#sk-container-id-1 div.sk-parallel-item:last-child::after {align-self: flex-start;width: 50%;}#sk-container-id-1 div.sk-parallel-item:only-child::after {width: 0;}#sk-container-id-1 div.sk-dashed-wrapped {border: 1px dashed gray;margin: 0 0.4em 0.5em 0.4em;box-sizing: border-box;padding-bottom: 0.4em;background-color: white;}#sk-container-id-1 div.sk-label label {font-family: monospace;font-weight: bold;display: inline-block;line-height: 1.2em;}#sk-container-id-1 div.sk-label-container {text-align: center;}#sk-container-id-1 div.sk-container {/* jupyter's `normalize.less` sets `[hidden] { display: none; }` but bootstrap.min.css set `[hidden] { display: none !important; }` so we also need the `!important` here to be able to override the default hidden behavior on the sphinx rendered scikit-learn.org. See: https://github.com/scikit-learn/scikit-learn/issues/21755 */display: inline-block !important;position: relative;}#sk-container-id-1 div.sk-text-repr-fallback {display: none;}</style><div id=\"sk-container-id-1\" class=\"sk-top-container\"><div class=\"sk-text-repr-fallback\"><pre>LinearRegression()</pre><b>In a Jupyter environment, please rerun this cell to show the HTML representation or trust the notebook. <br />On GitHub, the HTML representation is unable to render, please try loading this page with nbviewer.org.</b></div><div class=\"sk-container\" hidden><div class=\"sk-item\"><div class=\"sk-estimator sk-toggleable\"><input class=\"sk-toggleable__control sk-hidden--visually\" id=\"sk-estimator-id-1\" type=\"checkbox\" checked><label for=\"sk-estimator-id-1\" class=\"sk-toggleable__label sk-toggleable__label-arrow\">LinearRegression</label><div class=\"sk-toggleable__content\"><pre>LinearRegression()</pre></div></div></div></div></div>"
      ],
      "text/plain": [
       "LinearRegression()"
      ]
     },
     "execution_count": 22,
     "metadata": {},
     "output_type": "execute_result"
    }
   ],
   "source": [
    "from sklearn.linear_model import LinearRegression\n",
    "trainedModel = LinearRegression()\n",
    "trainedModel.fit(X_train,y_train)"
   ]
  },
  {
   "cell_type": "code",
   "execution_count": 23,
   "metadata": {
    "colab": {
     "base_uri": "https://localhost:8080/"
    },
    "executionInfo": {
     "elapsed": 453,
     "status": "ok",
     "timestamp": 1697679436913,
     "user": {
      "displayName": "Prashant Nair",
      "userId": "01567311054365266478"
     },
     "user_tz": -330
    },
    "id": "OqPvo2nulCE6",
    "outputId": "2e373a6b-be69-4dc6-dc5d-aa244bfc6a59"
   },
   "outputs": [
    {
     "data": {
      "text/plain": [
       "array([[9356.86299354]])"
      ]
     },
     "execution_count": 23,
     "metadata": {},
     "output_type": "execute_result"
    }
   ],
   "source": [
    "trainedModel.coef_"
   ]
  },
  {
   "cell_type": "code",
   "execution_count": 24,
   "metadata": {
    "colab": {
     "base_uri": "https://localhost:8080/"
    },
    "executionInfo": {
     "elapsed": 540,
     "status": "ok",
     "timestamp": 1697679444926,
     "user": {
      "displayName": "Prashant Nair",
      "userId": "01567311054365266478"
     },
     "user_tz": -330
    },
    "id": "T4wEZcsRlGcz",
    "outputId": "ee73313f-dc7a-4510-8925-61183186c8c5"
   },
   "outputs": [
    {
     "data": {
      "text/plain": [
       "array([26089.09663242])"
      ]
     },
     "execution_count": 24,
     "metadata": {},
     "output_type": "execute_result"
    }
   ],
   "source": [
    "trainedModel.intercept_"
   ]
  },
  {
   "cell_type": "code",
   "execution_count": null,
   "metadata": {
    "id": "efjHYNu9lIa6"
   },
   "outputs": [],
   "source": [
    "#sal = (9356.86299354 * yExp) + 26089.09663242"
   ]
  },
  {
   "cell_type": "code",
   "execution_count": 25,
   "metadata": {
    "executionInfo": {
     "elapsed": 490,
     "status": "ok",
     "timestamp": 1697679677762,
     "user": {
      "displayName": "Prashant Nair",
      "userId": "01567311054365266478"
     },
     "user_tz": -330
    },
    "id": "OiyhLvqIleFk"
   },
   "outputs": [],
   "source": [
    "A = np.concatenate([X_train , np.ones(len(X_train)).reshape(-1,1)] , axis = 1)"
   ]
  },
  {
   "cell_type": "code",
   "execution_count": 26,
   "metadata": {
    "colab": {
     "base_uri": "https://localhost:8080/"
    },
    "executionInfo": {
     "elapsed": 3,
     "status": "ok",
     "timestamp": 1697679679776,
     "user": {
      "displayName": "Prashant Nair",
      "userId": "01567311054365266478"
     },
     "user_tz": -330
    },
    "id": "NEfvFRNKmBSy",
    "outputId": "6ee57589-9f17-47b8-eed2-4d2e617f6248"
   },
   "outputs": [
    {
     "data": {
      "text/plain": [
       "array([[ 4.1,  1. ],\n",
       "       [ 9.6,  1. ],\n",
       "       [ 4. ,  1. ],\n",
       "       [ 1.3,  1. ],\n",
       "       [ 6. ,  1. ],\n",
       "       [ 4.5,  1. ],\n",
       "       [ 5.9,  1. ],\n",
       "       [ 3. ,  1. ],\n",
       "       [ 4. ,  1. ],\n",
       "       [ 8.2,  1. ],\n",
       "       [ 8.7,  1. ],\n",
       "       [10.3,  1. ],\n",
       "       [ 7.9,  1. ],\n",
       "       [ 3.9,  1. ],\n",
       "       [ 9.5,  1. ],\n",
       "       [10.5,  1. ],\n",
       "       [ 3.2,  1. ],\n",
       "       [ 9. ,  1. ],\n",
       "       [ 5.1,  1. ],\n",
       "       [ 5.3,  1. ],\n",
       "       [ 1.1,  1. ],\n",
       "       [ 4.9,  1. ],\n",
       "       [ 2.2,  1. ],\n",
       "       [ 3.7,  1. ]])"
      ]
     },
     "execution_count": 26,
     "metadata": {},
     "output_type": "execute_result"
    }
   ],
   "source": [
    "A"
   ]
  },
  {
   "cell_type": "code",
   "execution_count": 29,
   "metadata": {
    "executionInfo": {
     "elapsed": 548,
     "status": "ok",
     "timestamp": 1697679918551,
     "user": {
      "displayName": "Prashant Nair",
      "userId": "01567311054365266478"
     },
     "user_tz": -330
    },
    "id": "o2ckynT3mBt6"
   },
   "outputs": [],
   "source": [
    "from scipy import linalg\n",
    "#Least Squares\n",
    "\n",
    "myModel = linalg.lstsq(A,y_train)[0]"
   ]
  },
  {
   "cell_type": "code",
   "execution_count": 32,
   "metadata": {
    "colab": {
     "base_uri": "https://localhost:8080/"
    },
    "executionInfo": {
     "elapsed": 1355,
     "status": "ok",
     "timestamp": 1697681732277,
     "user": {
      "displayName": "Prashant Nair",
      "userId": "01567311054365266478"
     },
     "user_tz": -330
    },
    "id": "hh97d32AnBE7",
    "outputId": "fbe6cc9c-0bc4-447e-c02e-279999050a07"
   },
   "outputs": [
    {
     "data": {
      "text/plain": [
       "array([[ 9356.86299354],\n",
       "       [26089.09663242]])"
      ]
     },
     "execution_count": 32,
     "metadata": {},
     "output_type": "execute_result"
    }
   ],
   "source": [
    "myModel"
   ]
  },
  {
   "cell_type": "code",
   "execution_count": null,
   "metadata": {
    "id": "Ca5P3ADQt2Tm"
   },
   "outputs": [],
   "source": [
    "#sal = (9356.86299354 * yExp) + 26089.09663242"
   ]
  },
  {
   "cell_type": "code",
   "execution_count": 37,
   "metadata": {
    "colab": {
     "base_uri": "https://localhost:8080/"
    },
    "executionInfo": {
     "elapsed": 483,
     "status": "ok",
     "timestamp": 1697681904708,
     "user": {
      "displayName": "Prashant Nair",
      "userId": "01567311054365266478"
     },
     "user_tz": -330
    },
    "id": "VC5vZBkJuJx0",
    "outputId": "ea15a1c4-965c-4241-e5e0-2c544a716b9c"
   },
   "outputs": [
    {
     "data": {
      "text/plain": [
       "array([[1, 2, 3, 4],\n",
       "       [5, 6, 7, 8]])"
      ]
     },
     "execution_count": 37,
     "metadata": {},
     "output_type": "execute_result"
    }
   ],
   "source": [
    "list1 = [1,2,3,4]\n",
    "list2 = [5,6,7,8]\n",
    "\n",
    "oneDimArray = np.array([list1,list2])\n",
    "\n",
    "oneDimArray"
   ]
  },
  {
   "cell_type": "code",
   "execution_count": 38,
   "metadata": {
    "colab": {
     "base_uri": "https://localhost:8080/"
    },
    "executionInfo": {
     "elapsed": 2,
     "status": "ok",
     "timestamp": 1697681906656,
     "user": {
      "displayName": "Prashant Nair",
      "userId": "01567311054365266478"
     },
     "user_tz": -330
    },
    "id": "fDydhDkCuSAD",
    "outputId": "5b41118a-6fd6-4db3-cc19-b1f62b73b6e5"
   },
   "outputs": [
    {
     "data": {
      "text/plain": [
       "2"
      ]
     },
     "execution_count": 38,
     "metadata": {},
     "output_type": "execute_result"
    }
   ],
   "source": [
    "oneDimArray.ndim"
   ]
  },
  {
   "cell_type": "code",
   "execution_count": 39,
   "metadata": {
    "executionInfo": {
     "elapsed": 520,
     "status": "ok",
     "timestamp": 1697681918181,
     "user": {
      "displayName": "Prashant Nair",
      "userId": "01567311054365266478"
     },
     "user_tz": -330
    },
    "id": "i7ptoWLUuT_7"
   },
   "outputs": [],
   "source": [
    "oneDimArray = np.array([[1,2,3,4],[5,6,7,8]])"
   ]
  },
  {
   "cell_type": "code",
   "execution_count": 40,
   "metadata": {
    "colab": {
     "base_uri": "https://localhost:8080/"
    },
    "executionInfo": {
     "elapsed": 549,
     "status": "ok",
     "timestamp": 1697681924286,
     "user": {
      "displayName": "Prashant Nair",
      "userId": "01567311054365266478"
     },
     "user_tz": -330
    },
    "id": "wbwY7QmoukSP",
    "outputId": "fe619c1a-62e8-4754-c17d-42a51ec96d2f"
   },
   "outputs": [
    {
     "data": {
      "text/plain": [
       "array([[1, 2, 3, 4],\n",
       "       [5, 6, 7, 8]])"
      ]
     },
     "execution_count": 40,
     "metadata": {},
     "output_type": "execute_result"
    }
   ],
   "source": [
    "oneDimArray"
   ]
  },
  {
   "cell_type": "code",
   "execution_count": null,
   "metadata": {
    "id": "GVQADBSBulxB"
   },
   "outputs": [],
   "source": [
    "#numpy and pandas\n",
    "# arr1[rowRange , colRange]\n",
    "# arr1[rowList, colList]\n",
    "\n",
    "# rowRange---- startIndex : endIndex + 1\n",
    "# colRange---- startIndex : endIndex + 1"
   ]
  },
  {
   "cell_type": "code",
   "execution_count": 45,
   "metadata": {
    "colab": {
     "base_uri": "https://localhost:8080/"
    },
    "executionInfo": {
     "elapsed": 477,
     "status": "ok",
     "timestamp": 1697682094310,
     "user": {
      "displayName": "Prashant Nair",
      "userId": "01567311054365266478"
     },
     "user_tz": -330
    },
    "id": "8I1XFilNvB_5",
    "outputId": "f6b33c81-a806-44f9-c2b7-cc7ac8de969b"
   },
   "outputs": [
    {
     "data": {
      "text/plain": [
       "array([[ 67,  12,  26,  39,  16,   6,  66,  58,  46,  17],\n",
       "       [ 35,  49,  18,  16,  28,  81,  66,  71,  70,  75],\n",
       "       [ 52,  60,  81,  36,  56,  83,  13,  19,  81,  34],\n",
       "       [ 76,  99,  20,  49,  38,  62,  98,  27,  85,  38],\n",
       "       [ 35,  10,  37,  96,  97,  84,  95,  73,  95,  38],\n",
       "       [ 26,  10,  60,  70, 100,  91,  63,  98,  32,   1],\n",
       "       [ 38,   7,  82,  66,  98,  93,  98,  54,  79,  30],\n",
       "       [  8,  85,  93,  49,  73,  80,  92,   7,  88,  40],\n",
       "       [ 39,  57,   2,   7,  11,  23,  59,  72,  17,  94],\n",
       "       [  5,  48,  89,  61,  13,   6,  44,   9,   7,  23]])"
      ]
     },
     "execution_count": 45,
     "metadata": {},
     "output_type": "execute_result"
    }
   ],
   "source": [
    "test = np.random.randint(1,101,100).reshape(10,10)\n",
    "test"
   ]
  },
  {
   "cell_type": "code",
   "execution_count": 56,
   "metadata": {
    "colab": {
     "base_uri": "https://localhost:8080/",
     "height": 176
    },
    "executionInfo": {
     "elapsed": 578,
     "status": "error",
     "timestamp": 1697682624127,
     "user": {
      "displayName": "Prashant Nair",
      "userId": "01567311054365266478"
     },
     "user_tz": -330
    },
    "id": "r5_TThEBw8ph",
    "outputId": "2dec1e8f-956c-4af4-ca94-2b500b8607dd"
   },
   "outputs": [
    {
     "ename": "IndexError",
     "evalue": "ignored",
     "output_type": "error",
     "traceback": [
      "\u001b[0;31m---------------------------------------------------------------------------\u001b[0m",
      "\u001b[0;31mIndexError\u001b[0m                                Traceback (most recent call last)",
      "\u001b[0;32m<ipython-input-56-ba17fd4dd9d9>\u001b[0m in \u001b[0;36m<cell line: 1>\u001b[0;34m()\u001b[0m\n\u001b[0;32m----> 1\u001b[0;31m \u001b[0mtest\u001b[0m\u001b[0;34m[\u001b[0m\u001b[0;34m[\u001b[0m\u001b[0;36m0\u001b[0m\u001b[0;34m,\u001b[0m\u001b[0;36m1\u001b[0m\u001b[0;34m,\u001b[0m\u001b[0;36m2\u001b[0m\u001b[0;34m]\u001b[0m\u001b[0;34m,\u001b[0m\u001b[0;34m[\u001b[0m\u001b[0;36m1\u001b[0m\u001b[0;34m,\u001b[0m\u001b[0;36m2\u001b[0m\u001b[0;34m]\u001b[0m\u001b[0;34m]\u001b[0m\u001b[0;34m\u001b[0m\u001b[0;34m\u001b[0m\u001b[0m\n\u001b[0m",
      "\u001b[0;31mIndexError\u001b[0m: shape mismatch: indexing arrays could not be broadcast together with shapes (3,) (2,) "
     ]
    }
   ],
   "source": [
    "test[[0,1,2],[1,2]]"
   ]
  },
  {
   "cell_type": "code",
   "execution_count": 50,
   "metadata": {
    "colab": {
     "base_uri": "https://localhost:8080/"
    },
    "executionInfo": {
     "elapsed": 368,
     "status": "ok",
     "timestamp": 1697682283892,
     "user": {
      "displayName": "Prashant Nair",
      "userId": "01567311054365266478"
     },
     "user_tz": -330
    },
    "id": "PJIkpOjUvG7x",
    "outputId": "c49b1bc3-5e34-4d75-9889-fcefad53950d"
   },
   "outputs": [
    {
     "data": {
      "text/plain": [
       "array([[67, 12, 26, 39, 16,  6, 66, 58, 46, 17],\n",
       "       [35, 49, 18, 16, 28, 81, 66, 71, 70, 75]])"
      ]
     },
     "execution_count": 50,
     "metadata": {},
     "output_type": "execute_result"
    }
   ],
   "source": [
    "test[0:2,:]"
   ]
  },
  {
   "cell_type": "code",
   "execution_count": 52,
   "metadata": {
    "colab": {
     "base_uri": "https://localhost:8080/"
    },
    "executionInfo": {
     "elapsed": 370,
     "status": "ok",
     "timestamp": 1697682365032,
     "user": {
      "displayName": "Prashant Nair",
      "userId": "01567311054365266478"
     },
     "user_tz": -330
    },
    "id": "MSV68eDRvtJY",
    "outputId": "5ac68b73-b08a-40b9-c534-0bd847c42dd0"
   },
   "outputs": [
    {
     "data": {
      "text/plain": [
       "array([[88, 14,  4, 54, 71,  1, 47, 91, 26, 34],\n",
       "       [40, 79, 82, 37, 75, 16, 84,  2, 51, 74],\n",
       "       [84, 42, 62,  8,  3,  8, 85,  8, 39, 67],\n",
       "       [67, 26, 30, 97, 43, 30, 43, 62, 37, 57],\n",
       "       [62, 88, 71, 29, 20, 53, 96, 57, 44, 44],\n",
       "       [26, 51, 79, 79,  9, 55, 81, 78, 42, 53],\n",
       "       [41, 85, 25, 68, 60,  2, 42, 23, 57,  2],\n",
       "       [89, 86, 34, 90, 44, 46,  7, 72, 84, 40],\n",
       "       [85, 11,  3, 92, 39, 38, 97, 46, 73, 35],\n",
       "       [75, 55, 56, 41, 56, 21, 14, 12, 61, 60]])"
      ]
     },
     "execution_count": 52,
     "metadata": {},
     "output_type": "execute_result"
    }
   ],
   "source": [
    "np.random.randint(1,101,100).reshape(10,10)"
   ]
  },
  {
   "cell_type": "code",
   "execution_count": 55,
   "metadata": {
    "colab": {
     "base_uri": "https://localhost:8080/"
    },
    "executionInfo": {
     "elapsed": 575,
     "status": "ok",
     "timestamp": 1697682434403,
     "user": {
      "displayName": "Prashant Nair",
      "userId": "01567311054365266478"
     },
     "user_tz": -330
    },
    "id": "OV8a0HhnwGlk",
    "outputId": "fa25b7ac-5268-4581-cf6a-011c501398e1"
   },
   "outputs": [
    {
     "data": {
      "text/plain": [
       "array([[ 71],\n",
       "       [ 39],\n",
       "       [ 98],\n",
       "       [ 34],\n",
       "       [ 94],\n",
       "       [ 93],\n",
       "       [ 79],\n",
       "       [ 60],\n",
       "       [ 70],\n",
       "       [ 92],\n",
       "       [ 85],\n",
       "       [ 14],\n",
       "       [ 81],\n",
       "       [ 15],\n",
       "       [ 54],\n",
       "       [ 75],\n",
       "       [ 86],\n",
       "       [ 24],\n",
       "       [ 60],\n",
       "       [ 19],\n",
       "       [ 54],\n",
       "       [ 20],\n",
       "       [ 29],\n",
       "       [ 53],\n",
       "       [ 26],\n",
       "       [ 82],\n",
       "       [ 70],\n",
       "       [  2],\n",
       "       [ 55],\n",
       "       [ 32],\n",
       "       [ 98],\n",
       "       [ 62],\n",
       "       [ 83],\n",
       "       [ 84],\n",
       "       [ 78],\n",
       "       [ 47],\n",
       "       [ 99],\n",
       "       [ 16],\n",
       "       [ 94],\n",
       "       [ 12],\n",
       "       [ 33],\n",
       "       [ 17],\n",
       "       [ 33],\n",
       "       [ 37],\n",
       "       [ 25],\n",
       "       [ 33],\n",
       "       [ 81],\n",
       "       [ 30],\n",
       "       [ 64],\n",
       "       [ 17],\n",
       "       [  6],\n",
       "       [ 60],\n",
       "       [100],\n",
       "       [  4],\n",
       "       [ 22],\n",
       "       [ 33],\n",
       "       [ 51],\n",
       "       [ 31],\n",
       "       [ 37],\n",
       "       [ 49],\n",
       "       [ 88],\n",
       "       [ 13],\n",
       "       [  7],\n",
       "       [ 75],\n",
       "       [ 69],\n",
       "       [ 65],\n",
       "       [ 50],\n",
       "       [ 57],\n",
       "       [ 18],\n",
       "       [ 65],\n",
       "       [ 70],\n",
       "       [ 86],\n",
       "       [ 15],\n",
       "       [  1],\n",
       "       [ 32],\n",
       "       [ 86],\n",
       "       [ 14],\n",
       "       [ 46],\n",
       "       [ 49],\n",
       "       [ 18],\n",
       "       [ 66],\n",
       "       [  7],\n",
       "       [ 45],\n",
       "       [  6],\n",
       "       [ 93],\n",
       "       [ 44],\n",
       "       [ 18],\n",
       "       [ 55],\n",
       "       [ 20],\n",
       "       [  7],\n",
       "       [ 54],\n",
       "       [ 93],\n",
       "       [ 20],\n",
       "       [ 69],\n",
       "       [ 19],\n",
       "       [ 39],\n",
       "       [ 57],\n",
       "       [  3],\n",
       "       [ 70],\n",
       "       [ 59]])"
      ]
     },
     "execution_count": 55,
     "metadata": {},
     "output_type": "execute_result"
    }
   ],
   "source": [
    "np.random.randint(1,101,100).reshape(100,1)"
   ]
  },
  {
   "cell_type": "code",
   "execution_count": null,
   "metadata": {
    "id": "XIOzb_3YwaIZ"
   },
   "outputs": [],
   "source": []
  }
 ],
 "metadata": {
  "colab": {
   "authorship_tag": "ABX9TyOGPQPiqmAGN9MpRS9tZjon",
   "provenance": []
  },
  "kernelspec": {
   "display_name": "Python 3 (ipykernel)",
   "language": "python",
   "name": "python3"
  },
  "language_info": {
   "codemirror_mode": {
    "name": "ipython",
    "version": 3
   },
   "file_extension": ".py",
   "mimetype": "text/x-python",
   "name": "python",
   "nbconvert_exporter": "python",
   "pygments_lexer": "ipython3",
   "version": "3.11.3"
  }
 },
 "nbformat": 4,
 "nbformat_minor": 1
}
